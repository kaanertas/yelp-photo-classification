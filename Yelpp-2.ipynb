{
 "cells": [
  {
   "cell_type": "code",
   "execution_count": 2,
   "metadata": {},
   "outputs": [
    {
     "name": "stderr",
     "output_type": "stream",
     "text": [
      "Using TensorFlow backend.\n"
     ]
    }
   ],
   "source": [
    "import math\n",
    "import numpy as np\n",
    "import h5py\n",
    "import matplotlib.pyplot as plt\n",
    "import scipy\n",
    "from PIL import Image\n",
    "from scipy import ndimage\n",
    "import tensorflow as tf\n",
    "from tensorflow.python.framework import ops\n",
    "from skimage import io, transform\n",
    "from keras.models import Sequential\n",
    "from keras.layers import Dropout, Dense, Flatten\n",
    "from keras.optimizers import SGD\n",
    "from keras.layers.convolutional import Conv2D, MaxPooling2D\n",
    "from keras.utils import np_utils as u\n",
    "from keras import optimizers"
   ]
  },
  {
   "cell_type": "code",
   "execution_count": 3,
   "metadata": {},
   "outputs": [],
   "source": [
    "def PreProcessImage(path):\n",
    "    img = io.imread(path)   \n",
    "    resize = transform.resize(img, (224, 224))\n",
    "    #io.imshow(resize)\n",
    "    sample = np.asarray(resize)\n",
    "    #print(sample)\n",
    "    return sample"
   ]
  },
  {
   "cell_type": "code",
   "execution_count": 4,
   "metadata": {},
   "outputs": [
    {
     "name": "stdout",
     "output_type": "stream",
     "text": [
      "1000\n",
      "32\n",
      "(32000, 9)\n"
     ]
    }
   ],
   "source": [
    "f = open('train.csv')\n",
    "\n",
    "biz2label = {}\n",
    "first = True\n",
    "\n",
    "for line in f:\n",
    "    if (first):\n",
    "        first = False\n",
    "        continue\n",
    "    biz = line.split(',')[0]\n",
    "    labels = line.split(',')[1].split()\n",
    "    biz2label[biz] = labels\n",
    "\n",
    "#print(biz2label)\n",
    "\n",
    "f1 = open('train_photo_to_biz_ids.csv')\n",
    "\n",
    "biz2photo = {}\n",
    "first = True\n",
    "\n",
    "for line in f1:\n",
    "    if (first):\n",
    "        first = False\n",
    "        continue\n",
    "    biz = line.split(',')[1][:-1]\n",
    "    photo_id = line.split(',')[0]\n",
    "    if biz in biz2photo:\n",
    "        biz2photo[biz].append(photo_id)\n",
    "    else:\n",
    "        biz2photo[biz] = [photo_id]\n",
    "\n",
    "train_biz2photo = {}\n",
    "test_biz2photo = {}\n",
    "\n",
    "c = 0\n",
    "for biz, photos in biz2photo.items():\n",
    "    if (c>=1032):\n",
    "        break\n",
    "    if (len(photos)>=32):\n",
    "        if (c <1000):\n",
    "            train_biz2photo[biz]=photos[:32]\n",
    "        else:\n",
    "            test_biz2photo[biz]=photos[:32] \n",
    "        c += 1\n",
    "    \n",
    "print(len(train_biz2photo))\n",
    "print(len(test_biz2photo))\n",
    "\n",
    "train_photo2label = []\n",
    "\n",
    "for biz in sorted(train_biz2photo.keys(), key = lambda r: float(r)):\n",
    "    for photo in sorted(train_biz2photo[biz], key = lambda r: float(r)):\n",
    "        label = []\n",
    "        for i in range(9):\n",
    "            if (str(i) in biz2label[biz]):\n",
    "                label.append(1)\n",
    "            else:\n",
    "                label.append(0)\n",
    "        train_photo2label.append((photo,label))\n",
    "\n",
    "Y_train = np.array([item[1] for item in train_photo2label])\n",
    "print(Y_train.shape)\n",
    "\n",
    "#print(photo2label)"
   ]
  },
  {
   "cell_type": "code",
   "execution_count": 5,
   "metadata": {},
   "outputs": [
    {
     "name": "stderr",
     "output_type": "stream",
     "text": [
      "/home/ec2-user/anaconda3/envs/tensorflow_p36/lib/python3.6/site-packages/skimage/transform/_warps.py:84: UserWarning: The default mode, 'constant', will be changed to 'reflect' in skimage 0.15.\n",
      "  warn(\"The default mode, 'constant', will be changed to 'reflect' in \"\n"
     ]
    },
    {
     "name": "stdout",
     "output_type": "stream",
     "text": [
      "0\n",
      "1000\n",
      "2000\n",
      "3000\n",
      "4000\n",
      "5000\n",
      "6000\n",
      "7000\n",
      "8000\n",
      "9000\n",
      "10000\n",
      "11000\n",
      "12000\n",
      "13000\n",
      "14000\n",
      "15000\n",
      "16000\n",
      "17000\n",
      "18000\n",
      "19000\n",
      "20000\n",
      "21000\n",
      "22000\n",
      "23000\n",
      "24000\n",
      "25000\n",
      "26000\n",
      "27000\n",
      "28000\n",
      "29000\n",
      "30000\n",
      "31000\n",
      "(32000, 224, 224, 3)\n"
     ]
    }
   ],
   "source": [
    "directory_str = \"./train_photos/\"\n",
    "X_train = np.empty((32000,224,224,3))\n",
    "for i in range(len(train_photo2label)):\n",
    "    img_id = train_photo2label[i][0] + \".jpg\"\n",
    "    img_path = directory_str + img_id\n",
    "    X_train[i] = PreProcessImage(img_path)\n",
    "    if (i%1000==0):\n",
    "        print(i)\n",
    "\n",
    "print(X_train.shape)\n",
    "    "
   ]
  },
  {
   "cell_type": "code",
   "execution_count": 6,
   "metadata": {},
   "outputs": [
    {
     "name": "stderr",
     "output_type": "stream",
     "text": [
      "/home/ec2-user/anaconda3/envs/tensorflow_p36/lib/python3.6/site-packages/skimage/transform/_warps.py:84: UserWarning: The default mode, 'constant', will be changed to 'reflect' in skimage 0.15.\n",
      "  warn(\"The default mode, 'constant', will be changed to 'reflect' in \"\n"
     ]
    },
    {
     "name": "stdout",
     "output_type": "stream",
     "text": [
      "(1024, 224, 224, 3)\n"
     ]
    }
   ],
   "source": [
    "X_test = np.empty((1024,224,224,3))\n",
    "test_photo_ids = []\n",
    "for i in range(len(test_biz2photo)):\n",
    "    for k in range(32):\n",
    "        photo = sorted(test_biz2photo[sorted(test_biz2photo.keys(), key = lambda r: float(r))[i]], \n",
    "                       key = lambda r: float(r))[k]\n",
    "        test_photo_ids.append(photo)\n",
    "        img_path = './testphotoss/' + photo + \".jpg\"\n",
    "        X_test[32*i+k] = PreProcessImage(img_path)\n",
    "# np_a = np.array(test_photo_ids)\n",
    "# np.savetxt('testphotos.txt',np_a,fmt='%s')\n",
    "print(X_test.shape)"
   ]
  },
  {
   "cell_type": "code",
   "execution_count": 7,
   "metadata": {},
   "outputs": [],
   "source": [
    "model = Sequential()\n",
    "model.add(Conv2D(32, kernel_size = (5,5), padding = 'same', activation = 'relu', input_shape = X_train[0].shape))\n",
    "model.add(MaxPooling2D(pool_size=(2,2), strides=(2,2)))\n",
    "model.add(Conv2D(64, (5,5), padding = 'same', activation = 'relu'))\n",
    "model.add(MaxPooling2D(pool_size=(2,2)))\n",
    "model.add(Flatten())\n",
    "model.add(Dense(100, activation = 'relu'))\n",
    "model.add(Dense(9, activation = 'sigmoid'))"
   ]
  },
  {
   "cell_type": "code",
   "execution_count": 8,
   "metadata": {},
   "outputs": [],
   "source": [
    "#model.compile(loss=tf.keras.losses.binary_crossentropy, optimizer = tf.keras.optimizers.Adam(), metrics = [\"accuracy\"])\n",
    "model.compile(loss='binary_crossentropy', optimizer = 'adam')"
   ]
  },
  {
   "cell_type": "code",
   "execution_count": 9,
   "metadata": {
    "scrolled": true
   },
   "outputs": [
    {
     "name": "stdout",
     "output_type": "stream",
     "text": [
      "Epoch 1/1\n",
      "32000/32000 [==============================] - 1995s 62ms/step - loss: 0.7214\n",
      "Epoch 1/1\n",
      "32000/32000 [==============================] - 1986s 62ms/step - loss: 0.6173\n",
      "Epoch 1/1\n",
      "32000/32000 [==============================] - 1986s 62ms/step - loss: 0.6080\n",
      "Epoch 1/1\n",
      "32000/32000 [==============================] - 1984s 62ms/step - loss: 0.5994\n",
      "Epoch 1/1\n",
      "32000/32000 [==============================] - 1989s 62ms/step - loss: 0.5895\n"
     ]
    }
   ],
   "source": [
    "histories = []\n",
    "accuracies = []\n",
    "for i in range(5):\n",
    "    history = model.fit(X_train, Y_train, batch_size = 512, epochs = 1)\n",
    "    \n",
    "    histories.append(history)"
   ]
  },
  {
   "cell_type": "code",
   "execution_count": 50,
   "metadata": {},
   "outputs": [
    {
     "name": "stdout",
     "output_type": "stream",
     "text": [
      "Epoch 1/5\n",
      "32000/32000 [==============================] - 1989s 62ms/step - loss: 0.5865\n",
      "Epoch 2/5\n",
      "32000/32000 [==============================] - 1986s 62ms/step - loss: 0.5796\n",
      "Epoch 3/5\n",
      "32000/32000 [==============================] - 1985s 62ms/step - loss: 0.5694\n",
      "Epoch 4/5\n",
      "32000/32000 [==============================] - 1985s 62ms/step - loss: 0.5567\n",
      "Epoch 5/5\n",
      "32000/32000 [==============================] - 1988s 62ms/step - loss: 0.5443\n"
     ]
    },
    {
     "data": {
      "text/plain": [
       "<keras.callbacks.History at 0x7efaa2889048>"
      ]
     },
     "execution_count": 50,
     "metadata": {},
     "output_type": "execute_result"
    }
   ],
   "source": [
    "model.fit(X_train, Y_train, batch_size = 512, epochs = 5)"
   ]
  },
  {
   "cell_type": "code",
   "execution_count": 53,
   "metadata": {},
   "outputs": [],
   "source": [
    "prediction = np.array(model.predict(X_test))\n",
    "\n",
    "from keras.models import load_model\n",
    "pred10 = np.array(load_model('basic_cnn.h5').predict(X_test))"
   ]
  },
  {
   "cell_type": "code",
   "execution_count": 54,
   "metadata": {},
   "outputs": [
    {
     "name": "stdout",
     "output_type": "stream",
     "text": [
      "[[False  True  True  True False  True  True  True False]\n",
      " [False  True  True  True False  True  True False False]\n",
      " [False False False  True False  True  True False  True]\n",
      " [False  True  True False False  True  True False  True]\n",
      " [False False  True  True False  True  True False  True]\n",
      " [False  True  True  True  True  True  True  True False]\n",
      " [False False False  True False  True  True False  True]\n",
      " [False  True  True  True False  True  True False  True]\n",
      " [False  True  True False False  True  True False  True]\n",
      " [False False  True  True False  True  True False  True]\n",
      " [False  True  True  True False  True  True False  True]\n",
      " [False  True  True  True False  True  True False  True]\n",
      " [False False  True  True False  True  True False  True]\n",
      " [False  True  True  True False  True  True False  True]\n",
      " [False  True  True  True False  True  True  True False]\n",
      " [False False  True False False  True  True False  True]\n",
      " [False  True  True  True False  True  True False  True]\n",
      " [False False False  True False  True  True False  True]\n",
      " [False False  True  True False  True  True False  True]\n",
      " [False  True  True  True False  True  True False False]\n",
      " [False False False  True False  True  True False  True]\n",
      " [False  True  True  True False  True  True False  True]\n",
      " [False False False  True False  True  True False  True]\n",
      " [False False  True  True False  True  True False  True]\n",
      " [False  True  True  True False  True  True False False]\n",
      " [False False False  True False  True  True False  True]\n",
      " [False False False  True False  True  True False  True]\n",
      " [False False False False False  True  True False  True]\n",
      " [False  True  True  True False  True  True False  True]\n",
      " [False  True  True  True False  True  True False  True]\n",
      " [False  True  True  True False  True  True  True False]\n",
      " [False False False  True False  True  True False  True]]\n",
      "[[0. 1. 1. 0. 1. 1. 1. 1. 0.]\n",
      " [0. 1. 0. 0. 0. 1. 1. 1. 0.]\n",
      " [0. 0. 0. 1. 0. 0. 0. 0. 1.]\n",
      " [1. 1. 1. 0. 0. 1. 1. 0. 1.]\n",
      " [1. 1. 0. 0. 0. 0. 0. 0. 1.]\n",
      " [0. 1. 1. 0. 1. 1. 1. 1. 0.]\n",
      " [0. 0. 0. 0. 0. 0. 1. 0. 1.]\n",
      " [0. 1. 1. 1. 1. 1. 1. 1. 0.]\n",
      " [1. 1. 1. 1. 0. 1. 1. 0. 0.]\n",
      " [0. 1. 0. 0. 0. 1. 0. 0. 1.]\n",
      " [0. 0. 1. 1. 0. 1. 1. 0. 1.]\n",
      " [1. 0. 1. 1. 0. 1. 1. 0. 0.]\n",
      " [1. 1. 1. 0. 0. 1. 1. 0. 1.]\n",
      " [1. 0. 0. 1. 0. 1. 1. 0. 1.]\n",
      " [0. 1. 1. 0. 1. 1. 1. 1. 0.]\n",
      " [1. 1. 1. 0. 0. 0. 1. 0. 1.]\n",
      " [0. 1. 1. 0. 0. 1. 1. 1. 1.]\n",
      " [0. 0. 0. 0. 0. 0. 1. 0. 1.]\n",
      " [0. 0. 0. 1. 0. 1. 1. 0. 0.]\n",
      " [0. 1. 1. 1. 1. 1. 1. 0. 0.]\n",
      " [1. 0. 0. 0. 0. 0. 0. 0. 0.]\n",
      " [0. 0. 0. 1. 0. 1. 0. 0. 1.]\n",
      " [0. 0. 0. 1. 0. 0. 1. 0. 1.]\n",
      " [1. 0. 0. 0. 0. 0. 0. 0. 1.]\n",
      " [0. 1. 1. 0. 1. 1. 1. 1. 0.]\n",
      " [1. 0. 0. 1. 0. 0. 0. 0. 1.]\n",
      " [0. 0. 0. 0. 0. 0. 1. 0. 1.]\n",
      " [0. 0. 0. 1. 0. 0. 1. 0. 1.]\n",
      " [0. 0. 0. 0. 0. 1. 1. 0. 1.]\n",
      " [0. 1. 1. 0. 1. 1. 1. 1. 0.]\n",
      " [0. 1. 1. 0. 1. 1. 1. 1. 0.]\n",
      " [1. 0. 1. 1. 0. 0. 0. 0. 1.]]\n"
     ]
    }
   ],
   "source": [
    "b_pred = np.empty((32,9))\n",
    "for k in range(32):\n",
    "    b_pred[k]=(np.sum(prediction[32*k:32*(k+1)],axis=0)/32)\n",
    "    \n",
    "b_pred = b_pred >= 0.5\n",
    "    \n",
    "b_true = np.empty((32,9))\n",
    "\n",
    "for i in range(len(test_biz2photo)):\n",
    "    biz = sorted(test_biz2photo.keys(), key = lambda r: float(r))[i]\n",
    "    label = []\n",
    "    for k in range(9):\n",
    "        if (str(k) in biz2label[biz]):\n",
    "            label.append(1)\n",
    "        else:\n",
    "            label.append(0)\n",
    "    b_true[i] = label\n",
    "\n",
    "print(b_pred)\n",
    "print(b_true)"
   ]
  },
  {
   "cell_type": "code",
   "execution_count": 57,
   "metadata": {},
   "outputs": [
    {
     "name": "stdout",
     "output_type": "stream",
     "text": [
      "0.7114093959731543\n",
      "[0.0, 0.7272727272727272, 0.7692307692307693, 0.5365853658536585, 0.2222222222222222, 0.7692307692307693, 0.8571428571428571, 0.6153846153846153, 0.8636363636363636]\n",
      "0.5956339655526647\n"
     ]
    },
    {
     "name": "stderr",
     "output_type": "stream",
     "text": [
      "/home/ec2-user/anaconda3/envs/tensorflow_p36/lib/python3.6/site-packages/sklearn/metrics/classification.py:1135: UndefinedMetricWarning: F-score is ill-defined and being set to 0.0 due to no predicted samples.\n",
      "  'precision', 'predicted', average, warn_for)\n"
     ]
    }
   ],
   "source": [
    "from sklearn.metrics import f1_score\n",
    "from statistics import mean\n",
    "f1s = []\n",
    "# precision = []\n",
    "# recall = []\n",
    "# accuracy = []\n",
    "\n",
    "#print(f1_score(b_true.flatten(),b_pred.flatten()))\n",
    "    \n",
    "for i in range(9):\n",
    "    f1s.append(f1_score(b_true[:,i],b_pred[:,i]))\n",
    "\n",
    "print(f1s)\n",
    "meanf1 = mean(f1s)\n",
    "print(meanf1)"
   ]
  },
  {
   "cell_type": "code",
   "execution_count": 58,
   "metadata": {},
   "outputs": [],
   "source": [
    "model.save('baseline.h5')"
   ]
  },
  {
   "cell_type": "code",
   "execution_count": null,
   "metadata": {},
   "outputs": [],
   "source": []
  }
 ],
 "metadata": {
  "kernelspec": {
   "display_name": "Environment (conda_tensorflow_p36)",
   "language": "python",
   "name": "conda_tensorflow_p36"
  },
  "language_info": {
   "codemirror_mode": {
    "name": "ipython",
    "version": 3
   },
   "file_extension": ".py",
   "mimetype": "text/x-python",
   "name": "python",
   "nbconvert_exporter": "python",
   "pygments_lexer": "ipython3",
   "version": "3.6.5"
  }
 },
 "nbformat": 4,
 "nbformat_minor": 2
}
