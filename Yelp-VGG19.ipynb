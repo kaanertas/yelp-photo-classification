{
 "cells": [
  {
   "cell_type": "code",
   "execution_count": 1,
   "metadata": {},
   "outputs": [
    {
     "name": "stderr",
     "output_type": "stream",
     "text": [
      "Using TensorFlow backend.\n"
     ]
    }
   ],
   "source": [
    "import math\n",
    "import numpy as np\n",
    "import h5py\n",
    "import matplotlib.pyplot as plt\n",
    "import scipy\n",
    "from PIL import Image\n",
    "from scipy import ndimage\n",
    "import tensorflow as tf\n",
    "from tensorflow.python.framework import ops\n",
    "from skimage import io, transform\n",
    "from keras.models import Model,Sequential, load_model\n",
    "from keras.applications.inception_resnet_v2 import InceptionResNetV2#, preprocess_input\n",
    "# from keras.applications import MobileNet\n",
    "# from keras.applications.mobilenet import preprocess_input\n",
    "from keras.applications.vgg19 import VGG19, preprocess_input\n",
    "from keras.layers import Dropout, Dense, Flatten, Input\n",
    "from keras.optimizers import SGD, Adam\n",
    "from keras.layers.convolutional import Conv2D, MaxPooling2D\n",
    "from keras.utils import np_utils as u\n",
    "from keras import optimizers\n",
    "from sklearn.metrics import f1_score\n",
    "from statistics import mean"
   ]
  },
  {
   "cell_type": "code",
   "execution_count": 2,
   "metadata": {},
   "outputs": [],
   "source": [
    "def PreProcessImage(path):\n",
    "    img = io.imread(path)   \n",
    "    resize = transform.resize(img, (224, 224))\n",
    "    #io.imshow(resize)\n",
    "    sample = np.asarray(resize)\n",
    "    #print(sample)\n",
    "    return sample"
   ]
  },
  {
   "cell_type": "code",
   "execution_count": 3,
   "metadata": {},
   "outputs": [
    {
     "name": "stdout",
     "output_type": "stream",
     "text": [
      "1000\n",
      "32\n",
      "32\n"
     ]
    }
   ],
   "source": [
    "f = open('train.csv')\n",
    "\n",
    "biz2label = {}\n",
    "first = True\n",
    "\n",
    "for line in f:\n",
    "    if (first):\n",
    "        first = False\n",
    "        continue\n",
    "    biz = line.split(',')[0]\n",
    "    labels = line.split(',')[1].split()\n",
    "    biz2label[biz] = labels\n",
    "\n",
    "#print(biz2label)\n",
    "\n",
    "f1 = open('train_photo_to_biz_ids.csv')\n",
    "\n",
    "biz2photo = {}\n",
    "first = True\n",
    "\n",
    "for line in f1:\n",
    "    if (first):\n",
    "        first = False\n",
    "        continue\n",
    "    biz = line.split(',')[1][:-1]\n",
    "    photo_id = line.split(',')[0]\n",
    "    if biz in biz2photo:\n",
    "        biz2photo[biz].append(photo_id)\n",
    "    else:\n",
    "        biz2photo[biz] = [photo_id]\n",
    "\n",
    "train_biz2photo = {}\n",
    "dev_biz2photo = {}\n",
    "test_biz2photo = {}\n",
    "\n",
    "\n",
    "dev_photos = []\n",
    "c = 0\n",
    "for biz, photos in biz2photo.items():\n",
    "    if (c==1064):\n",
    "        break\n",
    "    if (len(photos)>=32):\n",
    "        if (c <1000):\n",
    "            train_biz2photo[biz]=photos[:32]\n",
    "        elif (c<1032):\n",
    "            test_biz2photo[biz]=photos[:32] \n",
    "        else:\n",
    "            dev_biz2photo[biz]=photos[:32]\n",
    "            dev_photos += photos[:32]\n",
    "        c += 1\n",
    "    \n",
    "print(len(train_biz2photo))\n",
    "print(len(dev_biz2photo))\n",
    "print(len(test_biz2photo))\n",
    "\n",
    "#np.savetxt('dev_photos.txt',dev_photos,fmt='%s')\n"
   ]
  },
  {
   "cell_type": "code",
   "execution_count": 4,
   "metadata": {},
   "outputs": [
    {
     "name": "stdout",
     "output_type": "stream",
     "text": [
      "(32000, 9)\n"
     ]
    }
   ],
   "source": [
    "train_photo2label = []\n",
    "\n",
    "for biz in sorted(train_biz2photo.keys(), key = lambda r: float(r)):\n",
    "    for photo in sorted(train_biz2photo[biz], key = lambda r: float(r)):\n",
    "        label = []\n",
    "        for i in range(9):\n",
    "            if (str(i) in biz2label[biz]):\n",
    "                label.append(1)\n",
    "            else:\n",
    "                label.append(0)\n",
    "        train_photo2label.append((photo,label))\n",
    "\n",
    "Y_train = np.array([item[1] for item in train_photo2label])\n",
    "print(Y_train.shape)"
   ]
  },
  {
   "cell_type": "code",
   "execution_count": null,
   "metadata": {},
   "outputs": [],
   "source": [
    "directory_str = \"./train_photos/\"\n",
    "X_train = np.empty((32000,224,224,3))\n",
    "for i in range(32000):\n",
    "    img_id = train_photo2label[i][0] + \".jpg\"\n",
    "    img_path = directory_str + img_id\n",
    "    X_train[i] = PreProcessImage(img_path)\n",
    "    if (i%1000==0):\n",
    "        print(i)\n",
    "        \n",
    "\n",
    "print(X_train.shape)"
   ]
  },
  {
   "cell_type": "code",
   "execution_count": 6,
   "metadata": {},
   "outputs": [
    {
     "name": "stderr",
     "output_type": "stream",
     "text": [
      "/home/ec2-user/anaconda3/envs/tensorflow_p36/lib/python3.6/site-packages/skimage/transform/_warps.py:84: UserWarning: The default mode, 'constant', will be changed to 'reflect' in skimage 0.15.\n",
      "  warn(\"The default mode, 'constant', will be changed to 'reflect' in \"\n"
     ]
    },
    {
     "name": "stdout",
     "output_type": "stream",
     "text": [
      "(1024, 224, 224, 3)\n"
     ]
    }
   ],
   "source": [
    "X_dev = np.empty((1024,224,224,3))\n",
    "dev_photo_ids = []\n",
    "for i in range(len(dev_biz2photo)):\n",
    "    for k in range(32):\n",
    "        photo = sorted(dev_biz2photo[sorted(dev_biz2photo.keys(), key = lambda r: float(r))[i]], \n",
    "                       key = lambda r: float(r))[k]\n",
    "        dev_photo_ids.append(photo)\n",
    "        img_path = './dev_photos/' + photo + \".jpg\"\n",
    "        X_dev[32*i+k] = PreProcessImage(img_path)\n",
    "\n",
    "print(X_dev.shape)"
   ]
  },
  {
   "cell_type": "code",
   "execution_count": 7,
   "metadata": {},
   "outputs": [],
   "source": [
    "Y_dev = np.empty((1024,9))\n",
    "\n",
    "for i in range(len(dev_biz2photo)):\n",
    "    biz = sorted(dev_biz2photo.keys(), key = lambda r: float(r))[i]\n",
    "    label = []\n",
    "    for k in range(9):\n",
    "        if (str(k) in biz2label[biz]):\n",
    "            label.append(True)\n",
    "        else:\n",
    "            label.append(False)\n",
    "    for j in range(32):    \n",
    "        Y_dev[32*i+j] = label"
   ]
  },
  {
   "cell_type": "code",
   "execution_count": 8,
   "metadata": {},
   "outputs": [
    {
     "name": "stderr",
     "output_type": "stream",
     "text": [
      "/home/ec2-user/anaconda3/envs/tensorflow_p36/lib/python3.6/site-packages/skimage/transform/_warps.py:84: UserWarning: The default mode, 'constant', will be changed to 'reflect' in skimage 0.15.\n",
      "  warn(\"The default mode, 'constant', will be changed to 'reflect' in \"\n"
     ]
    },
    {
     "name": "stdout",
     "output_type": "stream",
     "text": [
      "(1024, 224, 224, 3)\n"
     ]
    }
   ],
   "source": [
    "X_test = np.empty((1024,224,224,3))\n",
    "test_photo_ids = []\n",
    "for i in range(len(test_biz2photo)):\n",
    "    for k in range(32):\n",
    "        photo = sorted(test_biz2photo[sorted(test_biz2photo.keys(), key = lambda r: float(r))[i]], \n",
    "                       key = lambda r: float(r))[k]\n",
    "        test_photo_ids.append(photo)\n",
    "        img_path = './testphotoss/' + photo + \".jpg\"\n",
    "        X_test[32*i+k] = PreProcessImage(img_path)\n",
    "# np_a = np.array(test_photo_ids)\n",
    "# np.savetxt('testphotos.txt',np_a,fmt='%s')\n",
    "print(X_test.shape)"
   ]
  },
  {
   "cell_type": "code",
   "execution_count": 9,
   "metadata": {},
   "outputs": [],
   "source": [
    "Y_test = np.empty((32,9))\n",
    "\n",
    "for i in range(len(test_biz2photo)):\n",
    "    biz = sorted(test_biz2photo.keys(), key = lambda r: float(r))[i]\n",
    "    label = []\n",
    "    for k in range(9):\n",
    "        if (str(k) in biz2label[biz]):\n",
    "            label.append(1)\n",
    "        else:\n",
    "            label.append(0)\n",
    "    Y_test[i] = label"
   ]
  },
  {
   "cell_type": "code",
   "execution_count": 30,
   "metadata": {},
   "outputs": [],
   "source": [
    "#MODEL\n",
    "\n",
    "# base_model = InceptionResNetV2(include_top=False)\n",
    "base_model = VGG19(weights = 'imagenet')\n",
    "#base_model.summary()"
   ]
  },
  {
   "cell_type": "code",
   "execution_count": 31,
   "metadata": {},
   "outputs": [],
   "source": [
    "# O = base_model.output\n",
    "# O = Dense(1024,activation='relu')(O)\n",
    "# O = Dense(1024,activation='relu')(O)\n",
    "# O = Dense(512,activation='relu')(O)\n",
    "# preds = Dense(9,activation='sigmoid')(O)\n",
    "\n",
    "# f_model = Model(inputs=base_model.input,outputs=preds)\n",
    "\n",
    "model = Model(inputs=base_model.input, outputs = base_model.get_layer('flatten').output)\n",
    "X = model.output\n",
    "X = Dense(4096,activation = 'relu')(X)\n",
    "X = Dense(4096,activation = 'relu')(X)\n",
    "pred = Dense(9,activation = 'sigmoid')(X)\n",
    "f_model = Model(inputs = model.input, outputs = pred)\n",
    "\n",
    "f_model.load_weights('finetuned_vgg19_weights-10ep.h5')\n",
    "\n",
    "import keras.backend as K\n",
    "\n",
    "def custom_loss(y_t, y_p):\n",
    "    weights = [0.17,0.07,0.09,0.11,0.18,0.08,0.08,0.14,0.08]\n",
    "    return -K.mean(weights*(y_t*K.log(y_p)+(1-y_t)*K.log(1-y_p)))\n",
    "\n",
    "for layer in f_model.layers[:-3]:\n",
    "    layer.trainable=False\n",
    "    \n",
    "# for layer in f_model.layers:\n",
    "#     print(layer.trainable)\n",
    "# f_model.summary()\n",
    "\n",
    "# sgd = optimizers.SGD(lr=0.0001, decay=1e-6, momentum=0.9, nesterov=True)\n",
    "# f_model.compile(loss=custom_loss,optimizer=sgd)\n",
    "adam = optimizers.Adam(lr=0.000001, decay=1e-6)\n",
    "f_model.compile(loss=custom_loss,optimizer=adam)"
   ]
  },
  {
   "cell_type": "code",
   "execution_count": 12,
   "metadata": {},
   "outputs": [],
   "source": [
    "#FIT"
   ]
  },
  {
   "cell_type": "code",
   "execution_count": 13,
   "metadata": {},
   "outputs": [
    {
     "name": "stdout",
     "output_type": "stream",
     "text": [
      "Epoch 1/5\n",
      "32000/32000 [==============================] - 497s 16ms/step - loss: 0.6170\n",
      "Epoch 2/5\n",
      "32000/32000 [==============================] - 491s 15ms/step - loss: 0.5808\n",
      "Epoch 3/5\n",
      "32000/32000 [==============================] - 490s 15ms/step - loss: 0.5638\n",
      "Epoch 4/5\n",
      "32000/32000 [==============================] - 491s 15ms/step - loss: 0.5521\n",
      "Epoch 5/5\n",
      "32000/32000 [==============================] - 491s 15ms/step - loss: 0.5425\n"
     ]
    },
    {
     "data": {
      "text/plain": [
       "<keras.callbacks.History at 0x7f5f6682acf8>"
      ]
     },
     "execution_count": 13,
     "metadata": {},
     "output_type": "execute_result"
    }
   ],
   "source": [
    "# it = list(range(1,11))\n",
    "# train_loss = []\n",
    "# dev_loss = []\n",
    "\n",
    "f_model.fit(X_train,Y_train,epochs=5, batch_size=32)\n"
   ]
  },
  {
   "cell_type": "code",
   "execution_count": null,
   "metadata": {},
   "outputs": [],
   "source": [
    "it = list(range(1,11))\n",
    "train_loss = []\n",
    "dev_loss = []\n",
    "weights = [0.17,0.07,0.09,0.11,0.18,0.08,0.08,0.14,0.08]\n",
    "\n",
    "for i in range(5):\n",
    "    f_model.fit(X_train,Y_train,epochs=1, batch_size=32)\n",
    "    \n",
    "    train_p = np.array(f_model.predict(X_train))\n",
    "    train_los = np.mean(weights*(Y_train*np.log(train_p)+(1-Y_train)*np.log(1-train_p)))\n",
    "    train_loss.append(train_los)\n",
    "    print('Iteration '+str(i+1)+':')\n",
    "    print('Training loss = '+str(train_los))\n",
    "    \n",
    "    dev_p = np.array(f_model.predict(X_dev))\n",
    "    dev_los = np.mean(weights*(Y_dev*np.log(dev_p)+(1-Y_dev)*np.log(1-dev_p)))\n",
    "    dev_loss.append(dev_los)\n",
    "    print('Validation loss = '+str(dev_los))\n"
   ]
  },
  {
   "cell_type": "code",
   "execution_count": 13,
   "metadata": {},
   "outputs": [
    {
     "data": {
      "text/plain": [
       "Text(0,0.5,'Loss')"
      ]
     },
     "execution_count": 13,
     "metadata": {},
     "output_type": "execute_result"
    },
    {
     "data": {
      "image/png": "[encoded data removed]",
      "text/plain": [
       "<Figure size 432x288 with 1 Axes>"
      ]
     },
     "metadata": {},
     "output_type": "display_data"
    }
   ],
   "source": [
    "plt.plot(it[:5],train_loss,color='blue')\n",
    "plt.plot(it[:5],dev_loss,color='red')\n",
    "plt.title('Training vs Validation Loss')\n",
    "plt.xlabel('Epochs')\n",
    "plt.ylabel('Loss')"
   ]
  },
  {
   "cell_type": "code",
   "execution_count": 14,
   "metadata": {},
   "outputs": [
    {
     "name": "stdout",
     "output_type": "stream",
     "text": [
      "Epoch 1/1\n",
      "32000/32000 [==============================] - 507s 16ms/step - loss: 0.0591\n",
      "Iteration 6:\n",
      "Training loss = -0.058272647890781605\n",
      "Validation loss = -0.06393567169090197\n",
      "Epoch 1/1\n",
      "32000/32000 [==============================] - 508s 16ms/step - loss: 0.0582\n",
      "Iteration 7:\n",
      "Training loss = -0.05743337957184418\n",
      "Validation loss = -0.06435360328819822\n",
      "Epoch 1/1\n",
      "32000/32000 [==============================] - 508s 16ms/step - loss: 0.0574\n",
      "Iteration 8:\n",
      "Training loss = -0.05650396217090853\n",
      "Validation loss = -0.06399173938841968\n",
      "Epoch 1/1\n",
      "32000/32000 [==============================] - 508s 16ms/step - loss: 0.0566\n",
      "Iteration 9:\n",
      "Training loss = -0.05589886055614385\n",
      "Validation loss = -0.06348838659592276\n",
      "Epoch 1/1\n",
      "32000/32000 [==============================] - 508s 16ms/step - loss: 0.0559\n",
      "Iteration 10:\n",
      "Training loss = -0.05533454852843073\n",
      "Validation loss = -0.06391313525813228\n"
     ]
    }
   ],
   "source": [
    "for i in range(5,10):\n",
    "    f_model.fit(X_train,Y_train,epochs=1, batch_size=32)\n",
    "    \n",
    "    train_p = np.array(f_model.predict(X_train))\n",
    "    train_los = np.mean(weights*(Y_train*np.log(train_p)+(1-Y_train)*np.log(1-train_p)))\n",
    "    train_loss.append(train_los)\n",
    "    print('Iteration '+str(i+1)+':')\n",
    "    print('Training loss = '+str(train_los))\n",
    "    \n",
    "    dev_p = np.array(f_model.predict(X_dev))\n",
    "    dev_los = np.mean(weights*(Y_dev*np.log(dev_p)+(1-Y_dev)*np.log(1-dev_p)))\n",
    "    dev_loss.append(dev_los)\n",
    "    print('Validation loss = '+str(dev_los))"
   ]
  },
  {
   "cell_type": "code",
   "execution_count": 15,
   "metadata": {},
   "outputs": [
    {
     "data": {
      "text/plain": [
       "Text(0,0.5,'Loss')"
      ]
     },
     "execution_count": 15,
     "metadata": {},
     "output_type": "execute_result"
    },
    {
     "data": {
      "image/png": "[encoded data removed]",
      "text/plain": [
       "<Figure size 432x288 with 1 Axes>"
      ]
     },
     "metadata": {},
     "output_type": "display_data"
    }
   ],
   "source": [
    "plt.plot(it,train_loss,color='blue')\n",
    "plt.plot(it,dev_loss,color='red')\n",
    "plt.title('Training vs Validation Loss')\n",
    "plt.xlabel('Epochs')\n",
    "plt.ylabel('Loss')"
   ]
  },
  {
   "cell_type": "code",
   "execution_count": null,
   "metadata": {
    "scrolled": true
   },
   "outputs": [],
   "source": [
    "#PREDICT"
   ]
  },
  {
   "cell_type": "code",
   "execution_count": 32,
   "metadata": {},
   "outputs": [],
   "source": [
    "train_pred = f_model.predict(X_train)"
   ]
  },
  {
   "cell_type": "code",
   "execution_count": 33,
   "metadata": {},
   "outputs": [],
   "source": [
    "dev_pred = f_model.predict(X_dev)"
   ]
  },
  {
   "cell_type": "code",
   "execution_count": 16,
   "metadata": {},
   "outputs": [],
   "source": [
    "test_pred = f_model.predict(X_test)"
   ]
  },
  {
   "cell_type": "code",
   "execution_count": 36,
   "metadata": {},
   "outputs": [
    {
     "name": "stdout",
     "output_type": "stream",
     "text": [
      "[0.286 0.543 0.559 0.511 0.313 0.68  0.733 0.34  0.571]\n",
      "(32000, 9)\n",
      "[0.4238448988199234, 0.49719242003560066, 0.47197262993454925, 0.5422455159425735, 0.3406495490670204, 0.5671055936813354, 0.5843763421773911, 0.3385184407234192, 0.5813223873972894]\n"
     ]
    }
   ],
   "source": [
    "#CUSTOM THRESHOLD\n",
    "\n",
    "ratios = np.average(Y_train,axis=0)\n",
    "print(ratios)\n",
    "print(train_pred.shape)\n",
    "thresholds = []\n",
    "for i in range(len(ratios)):\n",
    "    thresholds.append(np.percentile(train_pred[:,i],100*(1-ratios[i])))\n",
    "print(thresholds)"
   ]
  },
  {
   "cell_type": "code",
   "execution_count": 39,
   "metadata": {},
   "outputs": [],
   "source": [
    "#THRESHOLDING DEV\n",
    "\n",
    "biz_pred_avg = np.empty((32,9))\n",
    "biz_pred_max = np.empty((32,9))\n",
    "for k in range(32):\n",
    "    biz_pred_avg[k]=(np.sum(dev_pred[32*k:32*(k+1)],axis=0)/32)\n",
    "    for l in range(9):\n",
    "        biz_pred_max[k,l]=max(dev_pred[32*k:32*(k+1),l])\n",
    "\n",
    "\n",
    "for i in range(9):\n",
    "    #biz_pred[:,i] = biz_pred[:,i] >= thresholds[i]\n",
    "    biz_pred_avg[:,i] = biz_pred_avg[:,i] >= 0.5\n",
    "    biz_pred_max[:,i] = biz_pred_max[:,i] >= 0.5\n",
    "\n",
    "# print(biz_pred)\n",
    "# print(Y_dev)"
   ]
  },
  {
   "cell_type": "code",
   "execution_count": 26,
   "metadata": {},
   "outputs": [],
   "source": [
    "#THRESHOLDING TEST\n",
    "\n",
    "biz_pred_avg = np.empty((32,9))\n",
    "biz_pred_max = np.empty((32,9))\n",
    "for k in range(32):\n",
    "    biz_pred_avg[k]=(np.sum(test_pred[32*k:32*(k+1)],axis=0)/32)\n",
    "    for l in range(9):\n",
    "        biz_pred_max[k,l]=max(test_pred[32*k:32*(k+1),l])\n",
    "\n",
    "\n",
    "for i in range(9):\n",
    "    #biz_pred[:,i] = biz_pred[:,i] >= thresholds[i]\n",
    "    biz_pred_avg[:,i] = biz_pred_avg[:,i] >= thresholds[i]\n",
    "    biz_pred_max[:,i] = biz_pred_max[:,i] >= thresholds[i]\n",
    "\n",
    "# print(biz_pred)\n",
    "# print(Y_dev)"
   ]
  },
  {
   "cell_type": "code",
   "execution_count": 28,
   "metadata": {},
   "outputs": [],
   "source": [
    "#THRESHOLDING TRAIN\n",
    "\n",
    "biz_pred_avg = np.empty((1000,9))\n",
    "biz_pred_max = np.empty((1000,9))\n",
    "for k in range(1000):\n",
    "    biz_pred_avg[k]=(np.sum(train_pred[32*k:32*(k+1)],axis=0)/32)\n",
    "    for l in range(9):\n",
    "        biz_pred_max[k,l]=max(train_pred[32*k:32*(k+1),l])\n",
    "\n",
    "\n",
    "for i in range(9):\n",
    "    #biz_pred[:,i] = biz_pred[:,i] >= thresholds[i]\n",
    "    biz_pred_avg[:,i] = biz_pred_avg[:,i] >= thresholds[i]\n",
    "    biz_pred_max[:,i] = biz_pred_max[:,i] >= thresholds[i]"
   ]
  },
  {
   "cell_type": "code",
   "execution_count": 29,
   "metadata": {},
   "outputs": [
    {
     "name": "stdout",
     "output_type": "stream",
     "text": [
      "Average:\n",
      "[0.7109375, 0.8771610555050044, 0.9078014184397163, 0.8290840415486308, 0.8229508196721312, 0.9196234612599566, 0.9495081967213114, 0.8088235294117648, 0.8875110717449071]\n",
      "0.8570445660337136\n",
      "Max:\n",
      "[0.463038180341186, 0.7051948051948053, 0.7185089974293059, 0.6763732627399073, 0.49960095770151636, 0.8095238095238095, 0.845931909982689, 0.5234795996920708, 0.7273885350318472]\n",
      "0.663226673070793\n"
     ]
    }
   ],
   "source": [
    "#F1S FOR TRAIN\n",
    "\n",
    "f1s_avg = []\n",
    "f1s_max = []\n",
    "    \n",
    "for i in range(9):\n",
    "    f1s_avg.append(f1_score(Y_train[::32,i],biz_pred_avg[:,i]))\n",
    "    f1s_max.append(f1_score(Y_train[::32,i],biz_pred_max[:,i]))\n",
    "    \n",
    "print('Average:')\n",
    "print(f1s_avg)\n",
    "meanf1_avg = mean(f1s_avg)\n",
    "print(meanf1_avg)\n",
    "\n",
    "print('Max:')\n",
    "print(f1s_max)\n",
    "meanf1_max = mean(f1s_max)\n",
    "print(meanf1_max)"
   ]
  },
  {
   "cell_type": "code",
   "execution_count": 40,
   "metadata": {},
   "outputs": [
    {
     "name": "stdout",
     "output_type": "stream",
     "text": [
      "Average:\n",
      "[0.18181818181818182, 0.8648648648648648, 0.7878787878787877, 0.6938775510204082, 0.0, 0.8333333333333333, 0.8679245283018869, 0.14285714285714288, 0.8750000000000001]\n",
      "0.5830615988971785\n",
      "Max:\n",
      "[0.5, 0.7924528301886793, 0.72, 0.72, 0.4444444444444445, 0.8148148148148148, 0.8363636363636363, 0.6666666666666666, 0.7924528301886793]\n",
      "0.6985772469629912\n"
     ]
    },
    {
     "name": "stderr",
     "output_type": "stream",
     "text": [
      "/home/ec2-user/anaconda3/envs/tensorflow_p36/lib/python3.6/site-packages/sklearn/metrics/classification.py:1135: UndefinedMetricWarning: F-score is ill-defined and being set to 0.0 due to no predicted samples.\n",
      "  'precision', 'predicted', average, warn_for)\n"
     ]
    }
   ],
   "source": [
    "#F1S FOR DEV\n",
    "\n",
    "f1s_avg = []\n",
    "f1s_max = []\n",
    "    \n",
    "for i in range(9):\n",
    "    f1s_avg.append(f1_score(Y_dev[::32,i],biz_pred_avg[:,i]))\n",
    "    f1s_max.append(f1_score(Y_dev[::32,i],biz_pred_max[:,i]))\n",
    "    \n",
    "print('Average:')\n",
    "print(f1s_avg)\n",
    "meanf1_avg = mean(f1s_avg)\n",
    "print(meanf1_avg)\n",
    "\n",
    "print('Max:')\n",
    "print(f1s_max)\n",
    "meanf1_max = mean(f1s_max)\n",
    "print(meanf1_max)"
   ]
  },
  {
   "cell_type": "code",
   "execution_count": 27,
   "metadata": {},
   "outputs": [
    {
     "name": "stdout",
     "output_type": "stream",
     "text": [
      "Average:\n",
      "[0.37499999999999994, 0.7586206896551724, 0.9032258064516129, 0.7407407407407408, 0.9411764705882353, 0.9047619047619048, 0.923076923076923, 0.7777777777777778, 0.9]\n",
      "0.8027089236724853\n",
      "Max:\n",
      "[0.5365853658536585, 0.6666666666666666, 0.6666666666666666, 0.5777777777777777, 0.4324324324324324, 0.7692307692307693, 0.8571428571428571, 0.43902439024390244, 0.7450980392156863]\n",
      "0.6322916628033797\n"
     ]
    }
   ],
   "source": [
    "#F1S FOR TEST\n",
    "\n",
    "f1s_avg = []\n",
    "f1s_max = []\n",
    "    \n",
    "for i in range(9):\n",
    "    f1s_avg.append(f1_score(Y_test[:,i],biz_pred_avg[:,i]))\n",
    "    f1s_max.append(f1_score(Y_test[:,i],biz_pred_max[:,i]))\n",
    "    \n",
    "print('Average:')\n",
    "print(f1s_avg)\n",
    "meanf1_avg = mean(f1s_avg)\n",
    "print(meanf1_avg)\n",
    "\n",
    "print('Max:')\n",
    "print(f1s_max)\n",
    "meanf1_max = mean(f1s_max)\n",
    "print(meanf1_max)"
   ]
  },
  {
   "cell_type": "code",
   "execution_count": 26,
   "metadata": {},
   "outputs": [],
   "source": [
    "f_model.save_weights('finetuned_vgg19_weights-10ep.h5')"
   ]
  }
 ],
 "metadata": {
  "kernelspec": {
   "display_name": "Python 3",
   "language": "python",
   "name": "python3"
  },
  "language_info": {
   "codemirror_mode": {
    "name": "ipython",
    "version": 3
   },
   "file_extension": ".py",
   "mimetype": "text/x-python",
   "name": "python",
   "nbconvert_exporter": "python",
   "pygments_lexer": "ipython3",
   "version": "3.6.5"
  }
 },
 "nbformat": 4,
 "nbformat_minor": 2
}
